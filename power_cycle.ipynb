{
  "nbformat": 4,
  "nbformat_minor": 0,
  "metadata": {
    "colab": {
      "name": "power-cycle.ipynb",
      "provenance": [],
      "mount_file_id": "1BBq8gQV6gQ215tyS-uwdldBuP_oXZQQs",
      "authorship_tag": "ABX9TyP2pCbgSKqczJjhuSQ2BZl8",
      "include_colab_link": true
    },
    "kernelspec": {
      "name": "python3",
      "display_name": "Python 3"
    }
  },
  "cells": [
    {
      "cell_type": "markdown",
      "metadata": {
        "id": "view-in-github",
        "colab_type": "text"
      },
      "source": [
        "<a href=\"https://colab.research.google.com/github/iasad1/power-plant/blob/main/power_cycle.ipynb\" target=\"_parent\"><img src=\"https://colab.research.google.com/assets/colab-badge.svg\" alt=\"Open In Colab\"/></a>"
      ]
    },
    {
      "cell_type": "markdown",
      "metadata": {
        "id": "lf8Unkb0wj2E"
      },
      "source": [
        "# Importing libraries\n",
        "\n"
      ]
    },
    {
      "cell_type": "code",
      "metadata": {
        "id": "m3tV6OFjtCfV"
      },
      "source": [
        "import numpy as np\n",
        "import pandas as pd\n",
        "import tensorflow as tf\n",
        "\n"
      ],
      "execution_count": 19,
      "outputs": []
    },
    {
      "cell_type": "code",
      "metadata": {
        "id": "TEcXguPWtNuW",
        "colab": {
          "base_uri": "https://localhost:8080/",
          "height": 35
        },
        "outputId": "d5e8e6c9-2cb2-473a-b31a-77b454d5792f"
      },
      "source": [
        "tf.__version__"
      ],
      "execution_count": 2,
      "outputs": [
        {
          "output_type": "execute_result",
          "data": {
            "application/vnd.google.colaboratory.intrinsic+json": {
              "type": "string"
            },
            "text/plain": [
              "'2.3.0'"
            ]
          },
          "metadata": {
            "tags": []
          },
          "execution_count": 2
        }
      ]
    },
    {
      "cell_type": "markdown",
      "metadata": {
        "id": "efU_4VKa0WTr"
      },
      "source": [
        "# Part 1 -Data preprocessing\n"
      ]
    },
    {
      "cell_type": "markdown",
      "metadata": {
        "id": "BDruEFiJ20yS"
      },
      "source": [
        "## Importing the dataset"
      ]
    },
    {
      "cell_type": "code",
      "metadata": {
        "id": "35pqtybSEnns",
        "colab": {
          "base_uri": "https://localhost:8080/"
        },
        "outputId": "c3e6326d-c5b9-4cce-b5fd-08cc1b275a38"
      },
      "source": [
        "from google.colab import drive\n",
        "drive.mount('/content/drive')"
      ],
      "execution_count": 3,
      "outputs": [
        {
          "output_type": "stream",
          "text": [
            "Drive already mounted at /content/drive; to attempt to forcibly remount, call drive.mount(\"/content/drive\", force_remount=True).\n"
          ],
          "name": "stdout"
        }
      ]
    },
    {
      "cell_type": "code",
      "metadata": {
        "id": "BQhhZX-tFfCM"
      },
      "source": [
        "file = '/content/drive/MyDrive/Machine Learning/Codes/Practise/ANN/Folds5x2_pp.xlsx'"
      ],
      "execution_count": 4,
      "outputs": []
    },
    {
      "cell_type": "code",
      "metadata": {
        "id": "nlx5JGYb259F"
      },
      "source": [
        "dataset = pd.read_excel(file)"
      ],
      "execution_count": 5,
      "outputs": []
    },
    {
      "cell_type": "code",
      "metadata": {
        "id": "F5PnnfNz3Jze",
        "colab": {
          "base_uri": "https://localhost:8080/",
          "height": 191
        },
        "outputId": "2fdfdaba-a11b-4436-c038-9e8b6ea0cbc5"
      },
      "source": [
        "dataset.head()"
      ],
      "execution_count": 6,
      "outputs": [
        {
          "output_type": "execute_result",
          "data": {
            "text/html": [
              "<div>\n",
              "<style scoped>\n",
              "    .dataframe tbody tr th:only-of-type {\n",
              "        vertical-align: middle;\n",
              "    }\n",
              "\n",
              "    .dataframe tbody tr th {\n",
              "        vertical-align: top;\n",
              "    }\n",
              "\n",
              "    .dataframe thead th {\n",
              "        text-align: right;\n",
              "    }\n",
              "</style>\n",
              "<table border=\"1\" class=\"dataframe\">\n",
              "  <thead>\n",
              "    <tr style=\"text-align: right;\">\n",
              "      <th></th>\n",
              "      <th>AT</th>\n",
              "      <th>V</th>\n",
              "      <th>AP</th>\n",
              "      <th>RH</th>\n",
              "      <th>PE</th>\n",
              "    </tr>\n",
              "  </thead>\n",
              "  <tbody>\n",
              "    <tr>\n",
              "      <th>0</th>\n",
              "      <td>14.96</td>\n",
              "      <td>41.76</td>\n",
              "      <td>1024.07</td>\n",
              "      <td>73.17</td>\n",
              "      <td>463.26</td>\n",
              "    </tr>\n",
              "    <tr>\n",
              "      <th>1</th>\n",
              "      <td>25.18</td>\n",
              "      <td>62.96</td>\n",
              "      <td>1020.04</td>\n",
              "      <td>59.08</td>\n",
              "      <td>444.37</td>\n",
              "    </tr>\n",
              "    <tr>\n",
              "      <th>2</th>\n",
              "      <td>5.11</td>\n",
              "      <td>39.40</td>\n",
              "      <td>1012.16</td>\n",
              "      <td>92.14</td>\n",
              "      <td>488.56</td>\n",
              "    </tr>\n",
              "    <tr>\n",
              "      <th>3</th>\n",
              "      <td>20.86</td>\n",
              "      <td>57.32</td>\n",
              "      <td>1010.24</td>\n",
              "      <td>76.64</td>\n",
              "      <td>446.48</td>\n",
              "    </tr>\n",
              "    <tr>\n",
              "      <th>4</th>\n",
              "      <td>10.82</td>\n",
              "      <td>37.50</td>\n",
              "      <td>1009.23</td>\n",
              "      <td>96.62</td>\n",
              "      <td>473.90</td>\n",
              "    </tr>\n",
              "  </tbody>\n",
              "</table>\n",
              "</div>"
            ],
            "text/plain": [
              "      AT      V       AP     RH      PE\n",
              "0  14.96  41.76  1024.07  73.17  463.26\n",
              "1  25.18  62.96  1020.04  59.08  444.37\n",
              "2   5.11  39.40  1012.16  92.14  488.56\n",
              "3  20.86  57.32  1010.24  76.64  446.48\n",
              "4  10.82  37.50  1009.23  96.62  473.90"
            ]
          },
          "metadata": {
            "tags": []
          },
          "execution_count": 6
        }
      ]
    },
    {
      "cell_type": "markdown",
      "metadata": {
        "id": "C_OzuIjB3TCJ"
      },
      "source": [
        "### Dataset details\n",
        "\n",
        "Features consist of hourly average ambient variables\n",
        "- Temperature (AT) in the range 1.81°C and 37.11°C,\n",
        "- Ambient Pressure (AP) in the range 992.89-1033.30 milibar,\n",
        "- Relative Humidity (RH) in the range 25.56% to 100.16%\n",
        "- Exhaust Vacuum (V) in teh range 25.36-81.56 cm Hg\n",
        "- Net hourly electrical energy output (PE) 420.26-495.76 MW\n",
        "The averages are taken from various sensors located around the plant that record the ambient variables every second. The variables are given without normalization.\n",
        "\n",
        "\n"
      ]
    },
    {
      "cell_type": "markdown",
      "metadata": {
        "id": "NGSH7UCCGOi5"
      },
      "source": [
        "### Splitting into Input and Output variables\n"
      ]
    },
    {
      "cell_type": "code",
      "metadata": {
        "id": "PQmJ8vDpGWr3"
      },
      "source": [
        "X = dataset.iloc[:,:-1].values\n",
        "y = dataset.iloc[:,-1].values"
      ],
      "execution_count": 7,
      "outputs": []
    },
    {
      "cell_type": "markdown",
      "metadata": {
        "id": "lLcuCc9XJgNg"
      },
      "source": [
        "### Splitting the dataset into Training and Test set"
      ]
    },
    {
      "cell_type": "code",
      "metadata": {
        "id": "6l6nFOIPHISm"
      },
      "source": [
        "from sklearn.model_selection import train_test_split\n",
        "X_train,X_test,y_train,y_test = train_test_split(X,y,test_size=.20,random_state=0)"
      ],
      "execution_count": 8,
      "outputs": []
    },
    {
      "cell_type": "markdown",
      "metadata": {
        "id": "tlXK2cLmLANt"
      },
      "source": [
        "# Part 2 - Building a Neural network"
      ]
    },
    {
      "cell_type": "markdown",
      "metadata": {
        "id": "CrofBDlALv0E"
      },
      "source": [
        "### Initialising the ANN"
      ]
    },
    {
      "cell_type": "code",
      "metadata": {
        "id": "Hu9n4YwlL1Ai"
      },
      "source": [
        "ann = tf.keras.models.Sequential()  "
      ],
      "execution_count": 9,
      "outputs": []
    },
    {
      "cell_type": "markdown",
      "metadata": {
        "id": "SvKdQaK0NVbe"
      },
      "source": [
        "### Adding the input layer and the first hidden layer"
      ]
    },
    {
      "cell_type": "code",
      "metadata": {
        "id": "8CRHpp8mMY6-"
      },
      "source": [
        "ann.add(tf.keras.layers.Dense(units=6,activation='relu')) # don't need to state the number of units for the input layer. TF will automatically detect it"
      ],
      "execution_count": 12,
      "outputs": []
    },
    {
      "cell_type": "markdown",
      "metadata": {
        "id": "8288-hovIj03"
      },
      "source": [
        "### Adding the second hidden layer\n"
      ]
    },
    {
      "cell_type": "code",
      "metadata": {
        "id": "q2Q3v1sCIgMM"
      },
      "source": [
        "ann.add(tf.keras.layers.Dense(units=6,activation='relu')) "
      ],
      "execution_count": null,
      "outputs": []
    },
    {
      "cell_type": "markdown",
      "metadata": {
        "id": "-_sdLnjyIt5B"
      },
      "source": [
        "### Adding the output layer"
      ]
    },
    {
      "cell_type": "code",
      "metadata": {
        "id": "s7iwM92LIwfN"
      },
      "source": [
        "ann.add(tf.keras.layers.Dense(units=1)) "
      ],
      "execution_count": 13,
      "outputs": []
    },
    {
      "cell_type": "markdown",
      "metadata": {
        "id": "HCroeETiJZuJ"
      },
      "source": [
        "\n",
        "Activation function to use in the output layer based on desired outcome\n",
        "*   Sigmoid - If classification with two categories\n",
        "*   Softmax - If classification with more than two categories\n",
        "*   None - If predicting regression\n",
        "\n"
      ]
    },
    {
      "cell_type": "markdown",
      "metadata": {
        "id": "QEppmp2TKDIl"
      },
      "source": [
        "# Part 3 - Training the ANN"
      ]
    },
    {
      "cell_type": "markdown",
      "metadata": {
        "id": "eclqY33oL_eS"
      },
      "source": [
        "### Compiling the ANN"
      ]
    },
    {
      "cell_type": "markdown",
      "metadata": {
        "id": "3QMkKekVVJTa"
      },
      "source": [
        " **Points to remember**\n",
        " * Adam is performing Stochaistic Gradient descent. \n",
        " * Because we are performing regression task, the loss function is Mean square error"
      ]
    },
    {
      "cell_type": "code",
      "metadata": {
        "id": "gvJu_bRFVEL8"
      },
      "source": [
        "ann.compile(optimizer='adam',loss='mean_squared_error')  "
      ],
      "execution_count": 15,
      "outputs": []
    },
    {
      "cell_type": "markdown",
      "metadata": {
        "id": "rS1fQ1QcMHGE"
      },
      "source": [
        "### Training the ANN on the training set"
      ]
    },
    {
      "cell_type": "markdown",
      "metadata": {
        "id": "Q0YAXUldZEpz"
      },
      "source": [
        "* Epochs - You start with a random number and then check the loss function, if getting worse then change, else keep\n",
        "* Batchsize - Is not compulsory but good to set in advance. Usually set as 32"
      ]
    },
    {
      "cell_type": "code",
      "metadata": {
        "colab": {
          "base_uri": "https://localhost:8080/"
        },
        "id": "hhLzG179YcuT",
        "outputId": "814a2038-5022-4ed4-8576-449264d470b5"
      },
      "source": [
        "ann.fit(X_train,y_train,epochs= 100,batch_size=32)"
      ],
      "execution_count": 16,
      "outputs": [
        {
          "output_type": "stream",
          "text": [
            "Epoch 1/100\n",
            "240/240 [==============================] - 0s 1ms/step - loss: 292.9793\n",
            "Epoch 2/100\n",
            "240/240 [==============================] - 0s 1ms/step - loss: 141.4613\n",
            "Epoch 3/100\n",
            "240/240 [==============================] - 0s 1ms/step - loss: 104.1128\n",
            "Epoch 4/100\n",
            "240/240 [==============================] - 0s 1ms/step - loss: 71.8655\n",
            "Epoch 5/100\n",
            "240/240 [==============================] - 0s 1ms/step - loss: 51.2618\n",
            "Epoch 6/100\n",
            "240/240 [==============================] - 0s 1ms/step - loss: 43.1010\n",
            "Epoch 7/100\n",
            "240/240 [==============================] - 0s 1ms/step - loss: 40.2122\n",
            "Epoch 8/100\n",
            "240/240 [==============================] - 0s 1ms/step - loss: 37.5409\n",
            "Epoch 9/100\n",
            "240/240 [==============================] - 0s 1ms/step - loss: 35.3160\n",
            "Epoch 10/100\n",
            "240/240 [==============================] - 0s 1ms/step - loss: 34.1211\n",
            "Epoch 11/100\n",
            "240/240 [==============================] - 0s 1ms/step - loss: 32.2454\n",
            "Epoch 12/100\n",
            "240/240 [==============================] - 0s 1ms/step - loss: 31.4361\n",
            "Epoch 13/100\n",
            "240/240 [==============================] - 0s 1ms/step - loss: 30.9357\n",
            "Epoch 14/100\n",
            "240/240 [==============================] - 0s 975us/step - loss: 30.2867\n",
            "Epoch 15/100\n",
            "240/240 [==============================] - 0s 1ms/step - loss: 29.2539\n",
            "Epoch 16/100\n",
            "240/240 [==============================] - 0s 1ms/step - loss: 29.0998\n",
            "Epoch 17/100\n",
            "240/240 [==============================] - 0s 997us/step - loss: 27.6185\n",
            "Epoch 18/100\n",
            "240/240 [==============================] - 0s 1ms/step - loss: 27.6226\n",
            "Epoch 19/100\n",
            "240/240 [==============================] - 0s 1ms/step - loss: 27.7984\n",
            "Epoch 20/100\n",
            "240/240 [==============================] - 0s 1ms/step - loss: 27.0198\n",
            "Epoch 21/100\n",
            "240/240 [==============================] - 0s 984us/step - loss: 27.9338\n",
            "Epoch 22/100\n",
            "240/240 [==============================] - 0s 989us/step - loss: 28.7813\n",
            "Epoch 23/100\n",
            "240/240 [==============================] - 0s 1ms/step - loss: 26.5095\n",
            "Epoch 24/100\n",
            "240/240 [==============================] - 0s 1ms/step - loss: 25.6709\n",
            "Epoch 25/100\n",
            "240/240 [==============================] - 0s 1ms/step - loss: 26.4212\n",
            "Epoch 26/100\n",
            "240/240 [==============================] - 0s 1ms/step - loss: 26.1847\n",
            "Epoch 27/100\n",
            "240/240 [==============================] - 0s 1ms/step - loss: 26.8523\n",
            "Epoch 28/100\n",
            "240/240 [==============================] - 0s 1ms/step - loss: 25.8346\n",
            "Epoch 29/100\n",
            "240/240 [==============================] - 0s 986us/step - loss: 25.4907\n",
            "Epoch 30/100\n",
            "240/240 [==============================] - 0s 1ms/step - loss: 26.2295\n",
            "Epoch 31/100\n",
            "240/240 [==============================] - 0s 1ms/step - loss: 25.9293\n",
            "Epoch 32/100\n",
            "240/240 [==============================] - 0s 1ms/step - loss: 25.7479\n",
            "Epoch 33/100\n",
            "240/240 [==============================] - 0s 1ms/step - loss: 24.9818\n",
            "Epoch 34/100\n",
            "240/240 [==============================] - 0s 1ms/step - loss: 25.3407\n",
            "Epoch 35/100\n",
            "240/240 [==============================] - 0s 1ms/step - loss: 24.8055\n",
            "Epoch 36/100\n",
            "240/240 [==============================] - 0s 937us/step - loss: 25.3729\n",
            "Epoch 37/100\n",
            "240/240 [==============================] - 0s 877us/step - loss: 24.5131\n",
            "Epoch 38/100\n",
            "240/240 [==============================] - 0s 863us/step - loss: 25.1508\n",
            "Epoch 39/100\n",
            "240/240 [==============================] - 0s 887us/step - loss: 25.4758\n",
            "Epoch 40/100\n",
            "240/240 [==============================] - 0s 940us/step - loss: 25.4385\n",
            "Epoch 41/100\n",
            "240/240 [==============================] - 0s 864us/step - loss: 25.2444\n",
            "Epoch 42/100\n",
            "240/240 [==============================] - 0s 878us/step - loss: 24.6371\n",
            "Epoch 43/100\n",
            "240/240 [==============================] - 0s 886us/step - loss: 25.3578\n",
            "Epoch 44/100\n",
            "240/240 [==============================] - 0s 906us/step - loss: 24.3636\n",
            "Epoch 45/100\n",
            "240/240 [==============================] - 0s 884us/step - loss: 24.7398\n",
            "Epoch 46/100\n",
            "240/240 [==============================] - 0s 868us/step - loss: 25.9730\n",
            "Epoch 47/100\n",
            "240/240 [==============================] - 0s 876us/step - loss: 25.0274\n",
            "Epoch 48/100\n",
            "240/240 [==============================] - 0s 877us/step - loss: 24.8049\n",
            "Epoch 49/100\n",
            "240/240 [==============================] - 0s 949us/step - loss: 24.6965\n",
            "Epoch 50/100\n",
            "240/240 [==============================] - 0s 947us/step - loss: 25.1795\n",
            "Epoch 51/100\n",
            "240/240 [==============================] - 0s 835us/step - loss: 24.3349\n",
            "Epoch 52/100\n",
            "240/240 [==============================] - 0s 891us/step - loss: 24.8553\n",
            "Epoch 53/100\n",
            "240/240 [==============================] - 0s 888us/step - loss: 24.5343\n",
            "Epoch 54/100\n",
            "240/240 [==============================] - 0s 917us/step - loss: 25.1780\n",
            "Epoch 55/100\n",
            "240/240 [==============================] - 0s 880us/step - loss: 24.2973\n",
            "Epoch 56/100\n",
            "240/240 [==============================] - 0s 901us/step - loss: 24.7322\n",
            "Epoch 57/100\n",
            "240/240 [==============================] - 0s 879us/step - loss: 25.3880\n",
            "Epoch 58/100\n",
            "240/240 [==============================] - 0s 933us/step - loss: 24.8544\n",
            "Epoch 59/100\n",
            "240/240 [==============================] - 0s 888us/step - loss: 25.3057\n",
            "Epoch 60/100\n",
            "240/240 [==============================] - 0s 877us/step - loss: 24.7163\n",
            "Epoch 61/100\n",
            "240/240 [==============================] - 0s 901us/step - loss: 24.8500\n",
            "Epoch 62/100\n",
            "240/240 [==============================] - 0s 897us/step - loss: 25.5217\n",
            "Epoch 63/100\n",
            "240/240 [==============================] - 0s 937us/step - loss: 24.6744\n",
            "Epoch 64/100\n",
            "240/240 [==============================] - 0s 917us/step - loss: 25.0256\n",
            "Epoch 65/100\n",
            "240/240 [==============================] - 0s 881us/step - loss: 24.7683\n",
            "Epoch 66/100\n",
            "240/240 [==============================] - 0s 874us/step - loss: 25.1804\n",
            "Epoch 67/100\n",
            "240/240 [==============================] - 0s 907us/step - loss: 24.5961\n",
            "Epoch 68/100\n",
            "240/240 [==============================] - 0s 941us/step - loss: 25.1787\n",
            "Epoch 69/100\n",
            "240/240 [==============================] - 0s 911us/step - loss: 24.6523\n",
            "Epoch 70/100\n",
            "240/240 [==============================] - 0s 915us/step - loss: 24.7388\n",
            "Epoch 71/100\n",
            "240/240 [==============================] - 0s 901us/step - loss: 25.9982\n",
            "Epoch 72/100\n",
            "240/240 [==============================] - 0s 964us/step - loss: 25.2136\n",
            "Epoch 73/100\n",
            "240/240 [==============================] - 0s 888us/step - loss: 24.9804\n",
            "Epoch 74/100\n",
            "240/240 [==============================] - 0s 906us/step - loss: 26.5319\n",
            "Epoch 75/100\n",
            "240/240 [==============================] - 0s 883us/step - loss: 24.8948\n",
            "Epoch 76/100\n",
            "240/240 [==============================] - 0s 885us/step - loss: 25.3356\n",
            "Epoch 77/100\n",
            "240/240 [==============================] - 0s 878us/step - loss: 25.0019\n",
            "Epoch 78/100\n",
            "240/240 [==============================] - 0s 905us/step - loss: 26.1316\n",
            "Epoch 79/100\n",
            "240/240 [==============================] - 0s 892us/step - loss: 24.6920\n",
            "Epoch 80/100\n",
            "240/240 [==============================] - 0s 885us/step - loss: 25.8610\n",
            "Epoch 81/100\n",
            "240/240 [==============================] - 0s 901us/step - loss: 25.5533\n",
            "Epoch 82/100\n",
            "240/240 [==============================] - 0s 923us/step - loss: 24.6805\n",
            "Epoch 83/100\n",
            "240/240 [==============================] - 0s 900us/step - loss: 24.4506\n",
            "Epoch 84/100\n",
            "240/240 [==============================] - 0s 882us/step - loss: 24.3002\n",
            "Epoch 85/100\n",
            "240/240 [==============================] - 0s 911us/step - loss: 25.5128\n",
            "Epoch 86/100\n",
            "240/240 [==============================] - 0s 910us/step - loss: 25.2485\n",
            "Epoch 87/100\n",
            "240/240 [==============================] - 0s 926us/step - loss: 25.4478\n",
            "Epoch 88/100\n",
            "240/240 [==============================] - 0s 874us/step - loss: 24.8842\n",
            "Epoch 89/100\n",
            "240/240 [==============================] - 0s 830us/step - loss: 24.2975\n",
            "Epoch 90/100\n",
            "240/240 [==============================] - 0s 830us/step - loss: 24.8587\n",
            "Epoch 91/100\n",
            "240/240 [==============================] - 0s 949us/step - loss: 24.8201\n",
            "Epoch 92/100\n",
            "240/240 [==============================] - 0s 905us/step - loss: 24.8469\n",
            "Epoch 93/100\n",
            "240/240 [==============================] - 0s 871us/step - loss: 24.2071\n",
            "Epoch 94/100\n",
            "240/240 [==============================] - 0s 904us/step - loss: 24.8959\n",
            "Epoch 95/100\n",
            "240/240 [==============================] - 0s 983us/step - loss: 24.6049\n",
            "Epoch 96/100\n",
            "240/240 [==============================] - 0s 921us/step - loss: 25.9554\n",
            "Epoch 97/100\n",
            "240/240 [==============================] - 0s 877us/step - loss: 24.5317\n",
            "Epoch 98/100\n",
            "240/240 [==============================] - 0s 868us/step - loss: 25.0477\n",
            "Epoch 99/100\n",
            "240/240 [==============================] - 0s 896us/step - loss: 24.4990\n",
            "Epoch 100/100\n",
            "240/240 [==============================] - 0s 886us/step - loss: 25.1563\n"
          ],
          "name": "stdout"
        },
        {
          "output_type": "execute_result",
          "data": {
            "text/plain": [
              "<tensorflow.python.keras.callbacks.History at 0x7f02f2b9cfd0>"
            ]
          },
          "metadata": {
            "tags": []
          },
          "execution_count": 16
        }
      ]
    },
    {
      "cell_type": "markdown",
      "metadata": {
        "id": "NVCv7tJmMNxI"
      },
      "source": [
        "# Part 4 - Predicting the result on the test set"
      ]
    },
    {
      "cell_type": "code",
      "metadata": {
        "colab": {
          "base_uri": "https://localhost:8080/"
        },
        "id": "xxhXCgR4MMtr",
        "outputId": "435d8468-8b17-4eac-a2f4-d24eeddaa511"
      },
      "source": [
        "y_pred= ann.predict(X_test)\n",
        "np.set_printoptions(precision=2) # This is limiting the float to 2 decimal points\n",
        "print(np.concatenate((y_pred.reshape(len(y_pred),1),y_test.reshape(len(y_test),1)),1))"
      ],
      "execution_count": 18,
      "outputs": [
        {
          "output_type": "stream",
          "text": [
            "[[431.12 431.23]\n",
            " [459.41 460.01]\n",
            " [464.09 461.14]\n",
            " ...\n",
            " [471.26 473.26]\n",
            " [438.18 438.  ]\n",
            " [456.22 463.28]]\n"
          ],
          "name": "stdout"
        }
      ]
    },
    {
      "cell_type": "markdown",
      "metadata": {
        "id": "4mhaJnitdmhH"
      },
      "source": [
        "## Visualizing the predictions"
      ]
    }
  ]
}